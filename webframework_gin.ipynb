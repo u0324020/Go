{
  "nbformat": 4,
  "nbformat_minor": 0,
  "metadata": {
    "colab": {
      "name": "webframework-gin.ipynb",
      "provenance": [],
      "collapsed_sections": [],
      "authorship_tag": "ABX9TyNNwZJZ4RojS1Jn74/uqd50",
      "include_colab_link": true
    },
    "kernelspec": {
      "name": "python3",
      "display_name": "Python 3"
    },
    "language_info": {
      "name": "python"
    }
  },
  "cells": [
    {
      "cell_type": "markdown",
      "metadata": {
        "id": "view-in-github",
        "colab_type": "text"
      },
      "source": [
        "<a href=\"https://colab.research.google.com/github/u0324020/Go/blob/main/webframework_gin.ipynb\" target=\"_parent\"><img src=\"https://colab.research.google.com/assets/colab-badge.svg\" alt=\"Open In Colab\"/></a>"
      ]
    },
    {
      "cell_type": "markdown",
      "metadata": {
        "id": "oX8lklK-43DD"
      },
      "source": [
        "# Go web framework-gin"
      ]
    },
    {
      "cell_type": "markdown",
      "metadata": {
        "id": "McAvSlAA5JX5"
      },
      "source": [
        "gin document\n",
        "\n",
        "https://gin-gonic.com"
      ]
    },
    {
      "cell_type": "markdown",
      "metadata": {
        "id": "xhCFtDh04nig"
      },
      "source": [
        "install Golang"
      ]
    },
    {
      "cell_type": "code",
      "metadata": {
        "colab": {
          "base_uri": "https://localhost:8080/"
        },
        "id": "kLPO4LyP3uTy",
        "outputId": "e9ec821a-10f1-4bad-b5f4-e6f907c41b3e"
      },
      "source": [
        "!wget https://golang.org/dl/go1.16.3.linux-amd64.tar.gz\n",
        "!tar -C /usr/local -xzf go1.16.3.linux-amd64.tar.gz\n",
        "!rm -rf go1.16.3.linux-amd64.tar.gz"
      ],
      "execution_count": 8,
      "outputs": [
        {
          "output_type": "stream",
          "text": [
            "--2021-04-22 14:08:13--  https://golang.org/dl/go1.16.3.linux-amd64.tar.gz\n",
            "Resolving golang.org (golang.org)... 172.217.13.241, 2607:f8b0:4004:809::2011\n",
            "Connecting to golang.org (golang.org)|172.217.13.241|:443... connected.\n",
            "HTTP request sent, awaiting response... 302 Found\n",
            "Location: https://dl.google.com/go/go1.16.3.linux-amd64.tar.gz [following]\n",
            "--2021-04-22 14:08:14--  https://dl.google.com/go/go1.16.3.linux-amd64.tar.gz\n",
            "Resolving dl.google.com (dl.google.com)... 172.217.6.206, 2607:f8b0:4006:808::200e\n",
            "Connecting to dl.google.com (dl.google.com)|172.217.6.206|:443... connected.\n",
            "HTTP request sent, awaiting response... 200 OK\n",
            "Length: 129021323 (123M) [application/octet-stream]\n",
            "Saving to: ‘go1.16.3.linux-amd64.tar.gz’\n",
            "\n",
            "go1.16.3.linux-amd6 100%[===================>] 123.04M   173MB/s    in 0.7s    \n",
            "\n",
            "2021-04-22 14:08:14 (173 MB/s) - ‘go1.16.3.linux-amd64.tar.gz’ saved [129021323/129021323]\n",
            "\n"
          ],
          "name": "stdout"
        }
      ]
    },
    {
      "cell_type": "markdown",
      "metadata": {
        "id": "0TUQ_gdO3vap"
      },
      "source": [
        "system path"
      ]
    },
    {
      "cell_type": "code",
      "metadata": {
        "id": "T39Iqg9Q4l5T"
      },
      "source": [
        "import os\n",
        "os.environ['PATH'] += \":/usr/local/go/bin\""
      ],
      "execution_count": 9,
      "outputs": []
    },
    {
      "cell_type": "code",
      "metadata": {
        "colab": {
          "base_uri": "https://localhost:8080/"
        },
        "id": "Y-95_kLQ5-bD",
        "outputId": "f9451fac-98f4-4f0b-bdfe-87ccb72e13b6"
      },
      "source": [
        "!go version"
      ],
      "execution_count": 10,
      "outputs": [
        {
          "output_type": "stream",
          "text": [
            "go version go1.16.3 linux/amd64\n"
          ],
          "name": "stdout"
        }
      ]
    },
    {
      "cell_type": "markdown",
      "metadata": {
        "id": "VBRK3uPI57hS"
      },
      "source": [
        "find colab proxy port"
      ]
    },
    {
      "cell_type": "code",
      "metadata": {
        "colab": {
          "base_uri": "https://localhost:8080/",
          "height": 34
        },
        "id": "h_GM82JW-Hxf",
        "outputId": "e1a4b023-8024-42db-cb56-948948d86292"
      },
      "source": [
        "from google.colab.output import eval_js\n",
        "print(eval_js(\"google.colab.kernel.proxyPort(8000)\"))"
      ],
      "execution_count": 36,
      "outputs": [
        {
          "output_type": "stream",
          "text": [
            "https://txg06egj62s-496ff2e9c6d22116-8000-colab.googleusercontent.com/\n"
          ],
          "name": "stdout"
        }
      ]
    },
    {
      "cell_type": "markdown",
      "metadata": {
        "id": "HvWH0CQt_FF2"
      },
      "source": [
        "create myweb project"
      ]
    },
    {
      "cell_type": "code",
      "metadata": {
        "colab": {
          "base_uri": "https://localhost:8080/"
        },
        "id": "Ni0VtpTS-sMg",
        "outputId": "e001411c-d024-4db6-8317-a5af542943d5"
      },
      "source": [
        "%%bash\n",
        "mkdir myweb\n",
        "mkdir myweb/templates\n",
        "cd myweb\n",
        "go mod init myweb"
      ],
      "execution_count": 13,
      "outputs": [
        {
          "output_type": "stream",
          "text": [
            "go: creating new go.mod: module myweb\n",
            "go: to add module requirements and sums:\n",
            "\tgo mod tidy\n"
          ],
          "name": "stderr"
        }
      ]
    },
    {
      "cell_type": "markdown",
      "metadata": {
        "id": "cda_76zt_NIM"
      },
      "source": [
        "import gin framework"
      ]
    },
    {
      "cell_type": "code",
      "metadata": {
        "colab": {
          "base_uri": "https://localhost:8080/"
        },
        "id": "Olbb77H-_PpT",
        "outputId": "fbc98483-1a3e-4f41-f677-2e1abac8e25f"
      },
      "source": [
        "%cd myweb\n",
        "!go get github.com/gin-gonic/gin"
      ],
      "execution_count": 14,
      "outputs": [
        {
          "output_type": "stream",
          "text": [
            "/content/myweb\n",
            "go: downloading github.com/gin-gonic/gin v1.7.1\n",
            "go: downloading github.com/gin-contrib/sse v0.1.0\n",
            "go: downloading github.com/mattn/go-isatty v0.0.12\n",
            "go: downloading github.com/go-playground/validator/v10 v10.4.1\n",
            "go: downloading github.com/golang/protobuf v1.3.3\n",
            "go: downloading github.com/ugorji/go v1.1.7\n",
            "go: downloading github.com/ugorji/go/codec v1.1.7\n",
            "go: downloading gopkg.in/yaml.v2 v2.2.8\n",
            "go: downloading github.com/json-iterator/go v1.1.9\n",
            "go: downloading golang.org/x/sys v0.0.0-20200116001909-b77594299b42\n",
            "go: downloading github.com/go-playground/universal-translator v0.17.0\n",
            "go: downloading github.com/leodido/go-urn v1.2.0\n",
            "go: downloading golang.org/x/crypto v0.0.0-20200622213623-75b288015ac9\n",
            "go: downloading github.com/modern-go/concurrent v0.0.0-20180228061459-e0a39a4cb421\n",
            "go: downloading github.com/modern-go/reflect2 v0.0.0-20180701023420-4b7aa43c6742\n",
            "go: downloading github.com/go-playground/locales v0.13.0\n",
            "go get: added github.com/gin-gonic/gin v1.7.1\n"
          ],
          "name": "stdout"
        }
      ]
    },
    {
      "cell_type": "markdown",
      "metadata": {
        "id": "bmumya6__c2C"
      },
      "source": [
        "Gin HelloWorld"
      ]
    },
    {
      "cell_type": "code",
      "metadata": {
        "colab": {
          "base_uri": "https://localhost:8080/"
        },
        "id": "B_5GUenH_fen",
        "outputId": "9ee2be8b-46eb-4a7d-dabe-17d5175ff9ac"
      },
      "source": [
        "%%writefile main.go\n",
        "package main\n",
        "import(\n",
        "    \"github.com/gin-gonic/gin\"\n",
        ")\n",
        "func main(){\n",
        "    router := gin.Default()\n",
        "    router.LoadHTMLGlob(\"templates/*.html\")\n",
        "    router.GET(\"/\", func(ctx *gin.Context){\n",
        "        ctx.HTML(200, \"index.html\", gin.H{})\n",
        "    })\n",
        "    router.Run(\":8000\")\n",
        "}"
      ],
      "execution_count": 28,
      "outputs": [
        {
          "output_type": "stream",
          "text": [
            "Overwriting main.go\n"
          ],
          "name": "stdout"
        }
      ]
    },
    {
      "cell_type": "code",
      "metadata": {
        "colab": {
          "base_uri": "https://localhost:8080/"
        },
        "id": "O-MNHeYrATsZ",
        "outputId": "6d6e9355-df72-4f1d-c1f4-4a47d5ca19c4"
      },
      "source": [
        "%%writefile templates/index.html\n",
        "<!DOCTYPE html>\n",
        "<html>\n",
        "<head>\n",
        "    <title>HelloMyWeb</title>\n",
        "</head>\n",
        "<body>\n",
        "\n",
        "<h1>Hello Golange</h1>\n",
        "\n",
        "<p>My first page.</p>\n",
        "\n",
        "</body>\n",
        "</html>"
      ],
      "execution_count": 16,
      "outputs": [
        {
          "output_type": "stream",
          "text": [
            "Writing templates/index.html\n"
          ],
          "name": "stdout"
        }
      ]
    },
    {
      "cell_type": "code",
      "metadata": {
        "colab": {
          "base_uri": "https://localhost:8080/"
        },
        "id": "KJKR9aT-BRMz",
        "outputId": "4793f399-ce84-4440-f428-cc87df8dbef7"
      },
      "source": [
        "!go run main.go"
      ],
      "execution_count": 31,
      "outputs": [
        {
          "output_type": "stream",
          "text": [
            "[GIN-debug] [WARNING] Creating an Engine instance with the Logger and Recovery middleware already attached.\n",
            "\n",
            "[GIN-debug] [WARNING] Running in \"debug\" mode. Switch to \"release\" mode in production.\n",
            " - using env:\texport GIN_MODE=release\n",
            " - using code:\tgin.SetMode(gin.ReleaseMode)\n",
            "\n",
            "[GIN-debug] Loaded HTML Templates (2): \n",
            "\t- \n",
            "\t- index.html\n",
            "\n",
            "[GIN-debug] GET    /                         --> main.main.func1 (3 handlers)\n",
            "[GIN-debug] Listening and serving HTTP on :8787\n",
            "signal: interrupt\n"
          ],
          "name": "stdout"
        }
      ]
    },
    {
      "cell_type": "code",
      "metadata": {
        "colab": {
          "base_uri": "https://localhost:8080/"
        },
        "id": "1N9k9Lu_CMEa",
        "outputId": "1956d609-7eb5-457b-95ca-ba6b326b115a"
      },
      "source": [
        "%%writefile main_test.go\n",
        "package main\n",
        "import(\n",
        "    \"testing\"\n",
        ")\n",
        "func TestMain(t *testing.T){\n",
        "    main()\n",
        "}"
      ],
      "execution_count": 20,
      "outputs": [
        {
          "output_type": "stream",
          "text": [
            "Writing main_test.go\n"
          ],
          "name": "stdout"
        }
      ]
    },
    {
      "cell_type": "code",
      "metadata": {
        "colab": {
          "base_uri": "https://localhost:8080/"
        },
        "id": "AQQBUlLKCfUr",
        "outputId": "74e38faa-b23d-443a-d475-a0ca3d7e5e7c"
      },
      "source": [
        "!go test -v -run main_test.go"
      ],
      "execution_count": 21,
      "outputs": [
        {
          "output_type": "stream",
          "text": [
            "testing: warning: no tests to run\n",
            "PASS\n",
            "ok  \tmyweb\t0.023s\n"
          ],
          "name": "stdout"
        }
      ]
    },
    {
      "cell_type": "markdown",
      "metadata": {
        "id": "Yhk0g4G-Qlxr"
      },
      "source": [
        "send value to template\n"
      ]
    },
    {
      "cell_type": "code",
      "metadata": {
        "colab": {
          "base_uri": "https://localhost:8080/"
        },
        "id": "nam4pSN9QUPI",
        "outputId": "74c22c3a-df64-42a9-b353-7f6095164d6b"
      },
      "source": [
        "%%writefile templates/data.html\n",
        "<!DOCTYPE html>\n",
        "<html>\n",
        "<head>\n",
        "    <title>HelloMyWeb</title>\n",
        "</head>\n",
        "<body>\n",
        "\n",
        "<h1>{{.data}}</h1>\n",
        "\n",
        "</body>\n",
        "</html>"
      ],
      "execution_count": 32,
      "outputs": [
        {
          "output_type": "stream",
          "text": [
            "Writing templates/data.html\n"
          ],
          "name": "stdout"
        }
      ]
    },
    {
      "cell_type": "code",
      "metadata": {
        "colab": {
          "base_uri": "https://localhost:8080/"
        },
        "id": "K4_YZAIjQkSK",
        "outputId": "79fb89e2-1b66-4be9-fedc-73e6c4d733e0"
      },
      "source": [
        "%%writefile main.go\n",
        "package main\n",
        "import(\n",
        "    \"github.com/gin-gonic/gin\"\n",
        ")\n",
        "func main(){\n",
        "    router := gin.Default()\n",
        "    router.LoadHTMLGlob(\"templates/*.html\")\n",
        "    router.GET(\"/\", func(ctx *gin.Context){\n",
        "        ctx.HTML(200, \"index.html\", gin.H{})\n",
        "    })\n",
        "    router.GET(\"/data\", func(ctx *gin.Context){\n",
        "        ctx.HTML(200, \"data.html\", gin.H{\"data\": \"Hello, template data.\"})\n",
        "    })\n",
        "    router.Run(\":8000\")\n",
        "}"
      ],
      "execution_count": 33,
      "outputs": [
        {
          "output_type": "stream",
          "text": [
            "Overwriting main.go\n"
          ],
          "name": "stdout"
        }
      ]
    },
    {
      "cell_type": "code",
      "metadata": {
        "colab": {
          "base_uri": "https://localhost:8080/"
        },
        "id": "GA99y9U6RUEM",
        "outputId": "7be8493c-b48a-4236-a6f6-9f3c5eb95faa"
      },
      "source": [
        "!go run main.go"
      ],
      "execution_count": 34,
      "outputs": [
        {
          "output_type": "stream",
          "text": [
            "[GIN-debug] [WARNING] Creating an Engine instance with the Logger and Recovery middleware already attached.\n",
            "\n",
            "[GIN-debug] [WARNING] Running in \"debug\" mode. Switch to \"release\" mode in production.\n",
            " - using env:\texport GIN_MODE=release\n",
            " - using code:\tgin.SetMode(gin.ReleaseMode)\n",
            "\n",
            "[GIN-debug] Loaded HTML Templates (3): \n",
            "\t- \n",
            "\t- data.html\n",
            "\t- index.html\n",
            "\n",
            "[GIN-debug] GET    /                         --> main.main.func1 (3 handlers)\n",
            "[GIN-debug] GET    /data                     --> main.main.func2 (3 handlers)\n",
            "[GIN-debug] Listening and serving HTTP on :8000\n",
            "signal: interrupt\n"
          ],
          "name": "stdout"
        }
      ]
    },
    {
      "cell_type": "markdown",
      "metadata": {
        "id": "tecZkH6LSaWT"
      },
      "source": [
        "Return json data"
      ]
    },
    {
      "cell_type": "code",
      "metadata": {
        "colab": {
          "base_uri": "https://localhost:8080/"
        },
        "id": "i2aRIz56Rr-l",
        "outputId": "a4b97fa5-f361-4385-fa35-3c5662d48bf4"
      },
      "source": [
        "%%writefile main.go\n",
        "package main\n",
        "import(\n",
        "    \"github.com/gin-gonic/gin\"\n",
        ")\n",
        "func main(){\n",
        "    router := gin.Default()\n",
        "    router.LoadHTMLGlob(\"templates/*.html\")\n",
        "    router.GET(\"/\", func(ctx *gin.Context){\n",
        "        ctx.HTML(200, \"index.html\", gin.H{})\n",
        "    })\n",
        "    router.GET(\"/data\", func(ctx *gin.Context){\n",
        "        ctx.HTML(200, \"data.html\", gin.H{\"data\": \"Hello, template data.\"})\n",
        "    })\n",
        "    router.GET(\"/json\", func(ctx *gin.Context){\n",
        "        ctx.JSON(200, gin.H{\n",
        "            \"result\": \"ok\",\n",
        "            \"data\": \"Hello, json data.\",\n",
        "            \"developer\": \"jane\",\n",
        "            })\n",
        "    })\n",
        "    router.Run(\":8000\")\n",
        "}"
      ],
      "execution_count": 39,
      "outputs": [
        {
          "output_type": "stream",
          "text": [
            "Overwriting main.go\n"
          ],
          "name": "stdout"
        }
      ]
    },
    {
      "cell_type": "code",
      "metadata": {
        "colab": {
          "base_uri": "https://localhost:8080/"
        },
        "id": "wJzLu6zFSWUV",
        "outputId": "b29287f1-4507-4dc2-e133-b72198723643"
      },
      "source": [
        "!go run main.go"
      ],
      "execution_count": 40,
      "outputs": [
        {
          "output_type": "stream",
          "text": [
            "[GIN-debug] [WARNING] Creating an Engine instance with the Logger and Recovery middleware already attached.\n",
            "\n",
            "[GIN-debug] [WARNING] Running in \"debug\" mode. Switch to \"release\" mode in production.\n",
            " - using env:\texport GIN_MODE=release\n",
            " - using code:\tgin.SetMode(gin.ReleaseMode)\n",
            "\n",
            "[GIN-debug] Loaded HTML Templates (3): \n",
            "\t- data.html\n",
            "\t- index.html\n",
            "\t- \n",
            "\n",
            "[GIN-debug] GET    /                         --> main.main.func1 (3 handlers)\n",
            "[GIN-debug] GET    /data                     --> main.main.func2 (3 handlers)\n",
            "[GIN-debug] GET    /json                     --> main.main.func3 (3 handlers)\n",
            "[GIN-debug] Listening and serving HTTP on :8000\n",
            "signal: interrupt\n"
          ],
          "name": "stdout"
        }
      ]
    },
    {
      "cell_type": "markdown",
      "metadata": {
        "id": "dP369V19TNkQ"
      },
      "source": [
        "Post and return json"
      ]
    },
    {
      "cell_type": "code",
      "metadata": {
        "colab": {
          "base_uri": "https://localhost:8080/"
        },
        "id": "D2AEHNlDTRWY",
        "outputId": "73c17ae2-1924-4236-ea65-5303c36570f9"
      },
      "source": [
        "%%writefile main.go\n",
        "package main\n",
        "import(\n",
        "    \"github.com/gin-gonic/gin\"\n",
        ")\n",
        "func main(){\n",
        "    router := gin.Default()\n",
        "    router.LoadHTMLGlob(\"templates/*.html\")\n",
        "    router.GET(\"/\", func(ctx *gin.Context){\n",
        "        ctx.HTML(200, \"index.html\", gin.H{})\n",
        "    })\n",
        "    router.GET(\"/data\", func(ctx *gin.Context){\n",
        "        ctx.HTML(200, \"data.html\", gin.H{\"data\": \"Hello, template data.\"})\n",
        "    })\n",
        "    router.GET(\"/json\", func(ctx *gin.Context){\n",
        "        ctx.JSON(200, gin.H{\n",
        "            \"result\": \"ok\",\n",
        "            \"data\": \"Hello, json data.\",\n",
        "            \"developer\": \"jane\",\n",
        "            })\n",
        "    })\n",
        "    router.GET(\"/form\", func(ctx *gin.Context){\n",
        "        ctx.HTML(200, \"form.html\", gin.H{})\n",
        "    })\n",
        "    router.POST(\"/service\", func(ctx *gin.Context){\n",
        "        username := ctx.PostForm(\"username\")\n",
        "        ctx.JSON(200, gin.H{\n",
        "            \"result\": \"ok\",\n",
        "            \"hello\": username,\n",
        "        })\n",
        "    })\n",
        "    router.Run(\":8000\")\n",
        "}"
      ],
      "execution_count": 41,
      "outputs": [
        {
          "output_type": "stream",
          "text": [
            "Overwriting main.go\n"
          ],
          "name": "stdout"
        }
      ]
    },
    {
      "cell_type": "code",
      "metadata": {
        "colab": {
          "base_uri": "https://localhost:8080/"
        },
        "id": "gO28w-tYUY61",
        "outputId": "bf7c5718-80d7-487e-b49a-ac916b1a8ab5"
      },
      "source": [
        "%%writefile templates/form.html\n",
        "<!DOCTYPE html>\n",
        "<html>\n",
        "<head>\n",
        "    <title>HelloMyWeb</title>\n",
        "</head>\n",
        "<body>\n",
        "\n",
        "    <h1>Form</h1>\n",
        "    <form action=\"/service\" method=\"POST\">\n",
        "        <input type=\"text\" name=\"username\">\n",
        "        <input type=\"submit\" value=\"ok!\">\n",
        "    </form>\n",
        "</body>\n",
        "</html>"
      ],
      "execution_count": 42,
      "outputs": [
        {
          "output_type": "stream",
          "text": [
            "Writing templates/form.html\n"
          ],
          "name": "stdout"
        }
      ]
    },
    {
      "cell_type": "code",
      "metadata": {
        "colab": {
          "base_uri": "https://localhost:8080/"
        },
        "id": "wNloKNCLVJZh",
        "outputId": "77058b50-9bda-4b48-d9ac-a2fef635c70f"
      },
      "source": [
        "!go run main.go"
      ],
      "execution_count": 43,
      "outputs": [
        {
          "output_type": "stream",
          "text": [
            "[GIN-debug] [WARNING] Creating an Engine instance with the Logger and Recovery middleware already attached.\n",
            "\n",
            "[GIN-debug] [WARNING] Running in \"debug\" mode. Switch to \"release\" mode in production.\n",
            " - using env:\texport GIN_MODE=release\n",
            " - using code:\tgin.SetMode(gin.ReleaseMode)\n",
            "\n",
            "[GIN-debug] Loaded HTML Templates (4): \n",
            "\t- \n",
            "\t- data.html\n",
            "\t- form.html\n",
            "\t- index.html\n",
            "\n",
            "[GIN-debug] GET    /                         --> main.main.func1 (3 handlers)\n",
            "[GIN-debug] GET    /data                     --> main.main.func2 (3 handlers)\n",
            "[GIN-debug] GET    /json                     --> main.main.func3 (3 handlers)\n",
            "[GIN-debug] GET    /form                     --> main.main.func4 (3 handlers)\n",
            "[GIN-debug] POST   /service                  --> main.main.func5 (3 handlers)\n",
            "[GIN-debug] Listening and serving HTTP on :8000\n",
            "signal: interrupt\n"
          ],
          "name": "stdout"
        }
      ]
    }
  ]
}