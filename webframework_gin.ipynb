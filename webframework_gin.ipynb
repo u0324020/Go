{
  "nbformat": 4,
  "nbformat_minor": 0,
  "metadata": {
    "colab": {
      "name": "webframework-gin.ipynb",
      "provenance": [],
      "authorship_tag": "ABX9TyNd9dmF04cp8+PSKKaNJmEZ",
      "include_colab_link": true
    },
    "kernelspec": {
      "name": "python3",
      "display_name": "Python 3"
    },
    "language_info": {
      "name": "python"
    }
  },
  "cells": [
    {
      "cell_type": "markdown",
      "metadata": {
        "id": "view-in-github",
        "colab_type": "text"
      },
      "source": [
        "<a href=\"https://colab.research.google.com/github/u0324020/LeetCode_Go/blob/main/webframework_gin.ipynb\" target=\"_parent\"><img src=\"https://colab.research.google.com/assets/colab-badge.svg\" alt=\"Open In Colab\"/></a>"
      ]
    },
    {
      "cell_type": "markdown",
      "metadata": {
        "id": "oX8lklK-43DD"
      },
      "source": [
        "# Go web framework-gin"
      ]
    },
    {
      "cell_type": "markdown",
      "metadata": {
        "id": "McAvSlAA5JX5"
      },
      "source": [
        "gin document\n",
        "\n",
        "https://gin-gonic.com"
      ]
    },
    {
      "cell_type": "markdown",
      "metadata": {
        "id": "xhCFtDh04nig"
      },
      "source": [
        "install Golang"
      ]
    },
    {
      "cell_type": "code",
      "metadata": {
        "colab": {
          "base_uri": "https://localhost:8080/"
        },
        "id": "kLPO4LyP3uTy",
        "outputId": "e9ec821a-10f1-4bad-b5f4-e6f907c41b3e"
      },
      "source": [
        "!wget https://golang.org/dl/go1.16.3.linux-amd64.tar.gz\n",
        "!tar -C /usr/local -xzf go1.16.3.linux-amd64.tar.gz\n",
        "!rm -rf go1.16.3.linux-amd64.tar.gz"
      ],
      "execution_count": 8,
      "outputs": [
        {
          "output_type": "stream",
          "text": [
            "--2021-04-22 14:08:13--  https://golang.org/dl/go1.16.3.linux-amd64.tar.gz\n",
            "Resolving golang.org (golang.org)... 172.217.13.241, 2607:f8b0:4004:809::2011\n",
            "Connecting to golang.org (golang.org)|172.217.13.241|:443... connected.\n",
            "HTTP request sent, awaiting response... 302 Found\n",
            "Location: https://dl.google.com/go/go1.16.3.linux-amd64.tar.gz [following]\n",
            "--2021-04-22 14:08:14--  https://dl.google.com/go/go1.16.3.linux-amd64.tar.gz\n",
            "Resolving dl.google.com (dl.google.com)... 172.217.6.206, 2607:f8b0:4006:808::200e\n",
            "Connecting to dl.google.com (dl.google.com)|172.217.6.206|:443... connected.\n",
            "HTTP request sent, awaiting response... 200 OK\n",
            "Length: 129021323 (123M) [application/octet-stream]\n",
            "Saving to: ‘go1.16.3.linux-amd64.tar.gz’\n",
            "\n",
            "go1.16.3.linux-amd6 100%[===================>] 123.04M   173MB/s    in 0.7s    \n",
            "\n",
            "2021-04-22 14:08:14 (173 MB/s) - ‘go1.16.3.linux-amd64.tar.gz’ saved [129021323/129021323]\n",
            "\n"
          ],
          "name": "stdout"
        }
      ]
    },
    {
      "cell_type": "markdown",
      "metadata": {
        "id": "0TUQ_gdO3vap"
      },
      "source": [
        "system path"
      ]
    },
    {
      "cell_type": "code",
      "metadata": {
        "id": "T39Iqg9Q4l5T"
      },
      "source": [
        "import os\n",
        "os.environ['PATH'] += \":/usr/local/go/bin\""
      ],
      "execution_count": 9,
      "outputs": []
    },
    {
      "cell_type": "code",
      "metadata": {
        "colab": {
          "base_uri": "https://localhost:8080/"
        },
        "id": "Y-95_kLQ5-bD",
        "outputId": "f9451fac-98f4-4f0b-bdfe-87ccb72e13b6"
      },
      "source": [
        "!go version"
      ],
      "execution_count": 10,
      "outputs": [
        {
          "output_type": "stream",
          "text": [
            "go version go1.16.3 linux/amd64\n"
          ],
          "name": "stdout"
        }
      ]
    },
    {
      "cell_type": "markdown",
      "metadata": {
        "id": "VBRK3uPI57hS"
      },
      "source": [
        ""
      ]
    }
  ]
}